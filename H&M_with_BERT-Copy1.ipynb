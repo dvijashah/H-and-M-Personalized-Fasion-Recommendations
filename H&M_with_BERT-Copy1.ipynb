{
 "cells": [
  {
   "cell_type": "code",
   "execution_count": 1,
   "id": "bcebb127",
   "metadata": {},
   "outputs": [],
   "source": [
    "import pandas as pd\n",
    "import numpy as np\n",
    "import matplotlib.pyplot as plt\n",
    "import seaborn as sns\n",
    "\n",
    "import re\n",
    "import nltk\n",
    "from nltk.stem.porter import PorterStemmer\n",
    "from nltk.stem import WordNetLemmatizer\n",
    "from nltk.corpus import stopwords\n",
    "from nltk import word_tokenize\n",
    "import string \n",
    "import numpy as np\n",
    "from string import punctuation\n",
    "# nltk.download('stopwords')\n",
    "# nltk.download('wordnet')\n",
    "# nltk.download('omw-1.4')\n",
    "# nltk.download('punkt')\n",
    "from warnings import filterwarnings\n",
    "filterwarnings('ignore')\n",
    "from sklearn.metrics.pairwise import cosine_similarity"
   ]
  },
  {
   "cell_type": "code",
   "execution_count": 2,
   "id": "eceee4dd",
   "metadata": {},
   "outputs": [],
   "source": [
    "raw_articles = pd.read_csv(\"data/articles.csv\")\n",
    "raw_customers = pd.read_csv(\"data/customers.csv\")\n",
    "raw_transactions = pd.read_csv(\"data/transactions_train.csv\")"
   ]
  },
  {
   "cell_type": "code",
   "execution_count": 3,
   "id": "50f1a15d",
   "metadata": {},
   "outputs": [],
   "source": [
    "articles = raw_articles.copy()\n",
    "customers = raw_customers.copy()\n",
    "transactions = raw_transactions.copy()"
   ]
  },
  {
   "cell_type": "code",
   "execution_count": 4,
   "id": "6c11455f",
   "metadata": {},
   "outputs": [
    {
     "data": {
      "text/html": [
       "<div>\n",
       "<style scoped>\n",
       "    .dataframe tbody tr th:only-of-type {\n",
       "        vertical-align: middle;\n",
       "    }\n",
       "\n",
       "    .dataframe tbody tr th {\n",
       "        vertical-align: top;\n",
       "    }\n",
       "\n",
       "    .dataframe thead th {\n",
       "        text-align: right;\n",
       "    }\n",
       "</style>\n",
       "<table border=\"1\" class=\"dataframe\">\n",
       "  <thead>\n",
       "    <tr style=\"text-align: right;\">\n",
       "      <th></th>\n",
       "      <th>0</th>\n",
       "      <th>1</th>\n",
       "      <th>2</th>\n",
       "      <th>3</th>\n",
       "      <th>4</th>\n",
       "    </tr>\n",
       "  </thead>\n",
       "  <tbody>\n",
       "    <tr>\n",
       "      <th>article_id</th>\n",
       "      <td>108775015</td>\n",
       "      <td>108775044</td>\n",
       "      <td>108775051</td>\n",
       "      <td>110065001</td>\n",
       "      <td>110065002</td>\n",
       "    </tr>\n",
       "    <tr>\n",
       "      <th>product_code</th>\n",
       "      <td>108775</td>\n",
       "      <td>108775</td>\n",
       "      <td>108775</td>\n",
       "      <td>110065</td>\n",
       "      <td>110065</td>\n",
       "    </tr>\n",
       "    <tr>\n",
       "      <th>prod_name</th>\n",
       "      <td>Strap top</td>\n",
       "      <td>Strap top</td>\n",
       "      <td>Strap top (1)</td>\n",
       "      <td>OP T-shirt (Idro)</td>\n",
       "      <td>OP T-shirt (Idro)</td>\n",
       "    </tr>\n",
       "    <tr>\n",
       "      <th>product_type_no</th>\n",
       "      <td>253</td>\n",
       "      <td>253</td>\n",
       "      <td>253</td>\n",
       "      <td>306</td>\n",
       "      <td>306</td>\n",
       "    </tr>\n",
       "    <tr>\n",
       "      <th>product_type_name</th>\n",
       "      <td>Vest top</td>\n",
       "      <td>Vest top</td>\n",
       "      <td>Vest top</td>\n",
       "      <td>Bra</td>\n",
       "      <td>Bra</td>\n",
       "    </tr>\n",
       "    <tr>\n",
       "      <th>product_group_name</th>\n",
       "      <td>Garment Upper body</td>\n",
       "      <td>Garment Upper body</td>\n",
       "      <td>Garment Upper body</td>\n",
       "      <td>Underwear</td>\n",
       "      <td>Underwear</td>\n",
       "    </tr>\n",
       "    <tr>\n",
       "      <th>graphical_appearance_no</th>\n",
       "      <td>1010016</td>\n",
       "      <td>1010016</td>\n",
       "      <td>1010017</td>\n",
       "      <td>1010016</td>\n",
       "      <td>1010016</td>\n",
       "    </tr>\n",
       "    <tr>\n",
       "      <th>graphical_appearance_name</th>\n",
       "      <td>Solid</td>\n",
       "      <td>Solid</td>\n",
       "      <td>Stripe</td>\n",
       "      <td>Solid</td>\n",
       "      <td>Solid</td>\n",
       "    </tr>\n",
       "    <tr>\n",
       "      <th>colour_group_code</th>\n",
       "      <td>9</td>\n",
       "      <td>10</td>\n",
       "      <td>11</td>\n",
       "      <td>9</td>\n",
       "      <td>10</td>\n",
       "    </tr>\n",
       "    <tr>\n",
       "      <th>colour_group_name</th>\n",
       "      <td>Black</td>\n",
       "      <td>White</td>\n",
       "      <td>Off White</td>\n",
       "      <td>Black</td>\n",
       "      <td>White</td>\n",
       "    </tr>\n",
       "    <tr>\n",
       "      <th>perceived_colour_value_id</th>\n",
       "      <td>4</td>\n",
       "      <td>3</td>\n",
       "      <td>1</td>\n",
       "      <td>4</td>\n",
       "      <td>3</td>\n",
       "    </tr>\n",
       "    <tr>\n",
       "      <th>perceived_colour_value_name</th>\n",
       "      <td>Dark</td>\n",
       "      <td>Light</td>\n",
       "      <td>Dusty Light</td>\n",
       "      <td>Dark</td>\n",
       "      <td>Light</td>\n",
       "    </tr>\n",
       "    <tr>\n",
       "      <th>perceived_colour_master_id</th>\n",
       "      <td>5</td>\n",
       "      <td>9</td>\n",
       "      <td>9</td>\n",
       "      <td>5</td>\n",
       "      <td>9</td>\n",
       "    </tr>\n",
       "    <tr>\n",
       "      <th>perceived_colour_master_name</th>\n",
       "      <td>Black</td>\n",
       "      <td>White</td>\n",
       "      <td>White</td>\n",
       "      <td>Black</td>\n",
       "      <td>White</td>\n",
       "    </tr>\n",
       "    <tr>\n",
       "      <th>department_no</th>\n",
       "      <td>1676</td>\n",
       "      <td>1676</td>\n",
       "      <td>1676</td>\n",
       "      <td>1339</td>\n",
       "      <td>1339</td>\n",
       "    </tr>\n",
       "    <tr>\n",
       "      <th>department_name</th>\n",
       "      <td>Jersey Basic</td>\n",
       "      <td>Jersey Basic</td>\n",
       "      <td>Jersey Basic</td>\n",
       "      <td>Clean Lingerie</td>\n",
       "      <td>Clean Lingerie</td>\n",
       "    </tr>\n",
       "    <tr>\n",
       "      <th>index_code</th>\n",
       "      <td>A</td>\n",
       "      <td>A</td>\n",
       "      <td>A</td>\n",
       "      <td>B</td>\n",
       "      <td>B</td>\n",
       "    </tr>\n",
       "    <tr>\n",
       "      <th>index_name</th>\n",
       "      <td>Ladieswear</td>\n",
       "      <td>Ladieswear</td>\n",
       "      <td>Ladieswear</td>\n",
       "      <td>Lingeries/Tights</td>\n",
       "      <td>Lingeries/Tights</td>\n",
       "    </tr>\n",
       "    <tr>\n",
       "      <th>index_group_no</th>\n",
       "      <td>1</td>\n",
       "      <td>1</td>\n",
       "      <td>1</td>\n",
       "      <td>1</td>\n",
       "      <td>1</td>\n",
       "    </tr>\n",
       "    <tr>\n",
       "      <th>index_group_name</th>\n",
       "      <td>Ladieswear</td>\n",
       "      <td>Ladieswear</td>\n",
       "      <td>Ladieswear</td>\n",
       "      <td>Ladieswear</td>\n",
       "      <td>Ladieswear</td>\n",
       "    </tr>\n",
       "    <tr>\n",
       "      <th>section_no</th>\n",
       "      <td>16</td>\n",
       "      <td>16</td>\n",
       "      <td>16</td>\n",
       "      <td>61</td>\n",
       "      <td>61</td>\n",
       "    </tr>\n",
       "    <tr>\n",
       "      <th>section_name</th>\n",
       "      <td>Womens Everyday Basics</td>\n",
       "      <td>Womens Everyday Basics</td>\n",
       "      <td>Womens Everyday Basics</td>\n",
       "      <td>Womens Lingerie</td>\n",
       "      <td>Womens Lingerie</td>\n",
       "    </tr>\n",
       "    <tr>\n",
       "      <th>garment_group_no</th>\n",
       "      <td>1002</td>\n",
       "      <td>1002</td>\n",
       "      <td>1002</td>\n",
       "      <td>1017</td>\n",
       "      <td>1017</td>\n",
       "    </tr>\n",
       "    <tr>\n",
       "      <th>garment_group_name</th>\n",
       "      <td>Jersey Basic</td>\n",
       "      <td>Jersey Basic</td>\n",
       "      <td>Jersey Basic</td>\n",
       "      <td>Under-, Nightwear</td>\n",
       "      <td>Under-, Nightwear</td>\n",
       "    </tr>\n",
       "    <tr>\n",
       "      <th>detail_desc</th>\n",
       "      <td>Jersey top with narrow shoulder straps.</td>\n",
       "      <td>Jersey top with narrow shoulder straps.</td>\n",
       "      <td>Jersey top with narrow shoulder straps.</td>\n",
       "      <td>Microfibre T-shirt bra with underwired, moulde...</td>\n",
       "      <td>Microfibre T-shirt bra with underwired, moulde...</td>\n",
       "    </tr>\n",
       "  </tbody>\n",
       "</table>\n",
       "</div>"
      ],
      "text/plain": [
       "                                                                    0  \\\n",
       "article_id                                                  108775015   \n",
       "product_code                                                   108775   \n",
       "prod_name                                                   Strap top   \n",
       "product_type_no                                                   253   \n",
       "product_type_name                                            Vest top   \n",
       "product_group_name                                 Garment Upper body   \n",
       "graphical_appearance_no                                       1010016   \n",
       "graphical_appearance_name                                       Solid   \n",
       "colour_group_code                                                   9   \n",
       "colour_group_name                                               Black   \n",
       "perceived_colour_value_id                                           4   \n",
       "perceived_colour_value_name                                      Dark   \n",
       "perceived_colour_master_id                                          5   \n",
       "perceived_colour_master_name                                    Black   \n",
       "department_no                                                    1676   \n",
       "department_name                                          Jersey Basic   \n",
       "index_code                                                          A   \n",
       "index_name                                                 Ladieswear   \n",
       "index_group_no                                                      1   \n",
       "index_group_name                                           Ladieswear   \n",
       "section_no                                                         16   \n",
       "section_name                                   Womens Everyday Basics   \n",
       "garment_group_no                                                 1002   \n",
       "garment_group_name                                       Jersey Basic   \n",
       "detail_desc                   Jersey top with narrow shoulder straps.   \n",
       "\n",
       "                                                                    1  \\\n",
       "article_id                                                  108775044   \n",
       "product_code                                                   108775   \n",
       "prod_name                                                   Strap top   \n",
       "product_type_no                                                   253   \n",
       "product_type_name                                            Vest top   \n",
       "product_group_name                                 Garment Upper body   \n",
       "graphical_appearance_no                                       1010016   \n",
       "graphical_appearance_name                                       Solid   \n",
       "colour_group_code                                                  10   \n",
       "colour_group_name                                               White   \n",
       "perceived_colour_value_id                                           3   \n",
       "perceived_colour_value_name                                     Light   \n",
       "perceived_colour_master_id                                          9   \n",
       "perceived_colour_master_name                                    White   \n",
       "department_no                                                    1676   \n",
       "department_name                                          Jersey Basic   \n",
       "index_code                                                          A   \n",
       "index_name                                                 Ladieswear   \n",
       "index_group_no                                                      1   \n",
       "index_group_name                                           Ladieswear   \n",
       "section_no                                                         16   \n",
       "section_name                                   Womens Everyday Basics   \n",
       "garment_group_no                                                 1002   \n",
       "garment_group_name                                       Jersey Basic   \n",
       "detail_desc                   Jersey top with narrow shoulder straps.   \n",
       "\n",
       "                                                                    2  \\\n",
       "article_id                                                  108775051   \n",
       "product_code                                                   108775   \n",
       "prod_name                                               Strap top (1)   \n",
       "product_type_no                                                   253   \n",
       "product_type_name                                            Vest top   \n",
       "product_group_name                                 Garment Upper body   \n",
       "graphical_appearance_no                                       1010017   \n",
       "graphical_appearance_name                                      Stripe   \n",
       "colour_group_code                                                  11   \n",
       "colour_group_name                                           Off White   \n",
       "perceived_colour_value_id                                           1   \n",
       "perceived_colour_value_name                               Dusty Light   \n",
       "perceived_colour_master_id                                          9   \n",
       "perceived_colour_master_name                                    White   \n",
       "department_no                                                    1676   \n",
       "department_name                                          Jersey Basic   \n",
       "index_code                                                          A   \n",
       "index_name                                                 Ladieswear   \n",
       "index_group_no                                                      1   \n",
       "index_group_name                                           Ladieswear   \n",
       "section_no                                                         16   \n",
       "section_name                                   Womens Everyday Basics   \n",
       "garment_group_no                                                 1002   \n",
       "garment_group_name                                       Jersey Basic   \n",
       "detail_desc                   Jersey top with narrow shoulder straps.   \n",
       "\n",
       "                                                                              3  \\\n",
       "article_id                                                            110065001   \n",
       "product_code                                                             110065   \n",
       "prod_name                                                     OP T-shirt (Idro)   \n",
       "product_type_no                                                             306   \n",
       "product_type_name                                                           Bra   \n",
       "product_group_name                                                    Underwear   \n",
       "graphical_appearance_no                                                 1010016   \n",
       "graphical_appearance_name                                                 Solid   \n",
       "colour_group_code                                                             9   \n",
       "colour_group_name                                                         Black   \n",
       "perceived_colour_value_id                                                     4   \n",
       "perceived_colour_value_name                                                Dark   \n",
       "perceived_colour_master_id                                                    5   \n",
       "perceived_colour_master_name                                              Black   \n",
       "department_no                                                              1339   \n",
       "department_name                                                  Clean Lingerie   \n",
       "index_code                                                                    B   \n",
       "index_name                                                     Lingeries/Tights   \n",
       "index_group_no                                                                1   \n",
       "index_group_name                                                     Ladieswear   \n",
       "section_no                                                                   61   \n",
       "section_name                                                    Womens Lingerie   \n",
       "garment_group_no                                                           1017   \n",
       "garment_group_name                                            Under-, Nightwear   \n",
       "detail_desc                   Microfibre T-shirt bra with underwired, moulde...   \n",
       "\n",
       "                                                                              4  \n",
       "article_id                                                            110065002  \n",
       "product_code                                                             110065  \n",
       "prod_name                                                     OP T-shirt (Idro)  \n",
       "product_type_no                                                             306  \n",
       "product_type_name                                                           Bra  \n",
       "product_group_name                                                    Underwear  \n",
       "graphical_appearance_no                                                 1010016  \n",
       "graphical_appearance_name                                                 Solid  \n",
       "colour_group_code                                                            10  \n",
       "colour_group_name                                                         White  \n",
       "perceived_colour_value_id                                                     3  \n",
       "perceived_colour_value_name                                               Light  \n",
       "perceived_colour_master_id                                                    9  \n",
       "perceived_colour_master_name                                              White  \n",
       "department_no                                                              1339  \n",
       "department_name                                                  Clean Lingerie  \n",
       "index_code                                                                    B  \n",
       "index_name                                                     Lingeries/Tights  \n",
       "index_group_no                                                                1  \n",
       "index_group_name                                                     Ladieswear  \n",
       "section_no                                                                   61  \n",
       "section_name                                                    Womens Lingerie  \n",
       "garment_group_no                                                           1017  \n",
       "garment_group_name                                            Under-, Nightwear  \n",
       "detail_desc                   Microfibre T-shirt bra with underwired, moulde...  "
      ]
     },
     "execution_count": 4,
     "metadata": {},
     "output_type": "execute_result"
    }
   ],
   "source": [
    "articles.head().T"
   ]
  },
  {
   "cell_type": "code",
   "execution_count": 5,
   "id": "cea3b04e",
   "metadata": {},
   "outputs": [
    {
     "name": "stdout",
     "output_type": "stream",
     "text": [
      "<class 'pandas.core.frame.DataFrame'>\n",
      "RangeIndex: 105542 entries, 0 to 105541\n",
      "Data columns (total 25 columns):\n",
      " #   Column                        Non-Null Count   Dtype \n",
      "---  ------                        --------------   ----- \n",
      " 0   article_id                    105542 non-null  int64 \n",
      " 1   product_code                  105542 non-null  int64 \n",
      " 2   prod_name                     105542 non-null  object\n",
      " 3   product_type_no               105542 non-null  int64 \n",
      " 4   product_type_name             105542 non-null  object\n",
      " 5   product_group_name            105542 non-null  object\n",
      " 6   graphical_appearance_no       105542 non-null  int64 \n",
      " 7   graphical_appearance_name     105542 non-null  object\n",
      " 8   colour_group_code             105542 non-null  int64 \n",
      " 9   colour_group_name             105542 non-null  object\n",
      " 10  perceived_colour_value_id     105542 non-null  int64 \n",
      " 11  perceived_colour_value_name   105542 non-null  object\n",
      " 12  perceived_colour_master_id    105542 non-null  int64 \n",
      " 13  perceived_colour_master_name  105542 non-null  object\n",
      " 14  department_no                 105542 non-null  int64 \n",
      " 15  department_name               105542 non-null  object\n",
      " 16  index_code                    105542 non-null  object\n",
      " 17  index_name                    105542 non-null  object\n",
      " 18  index_group_no                105542 non-null  int64 \n",
      " 19  index_group_name              105542 non-null  object\n",
      " 20  section_no                    105542 non-null  int64 \n",
      " 21  section_name                  105542 non-null  object\n",
      " 22  garment_group_no              105542 non-null  int64 \n",
      " 23  garment_group_name            105542 non-null  object\n",
      " 24  detail_desc                   105126 non-null  object\n",
      "dtypes: int64(11), object(14)\n",
      "memory usage: 20.1+ MB\n"
     ]
    }
   ],
   "source": [
    "articles.info()"
   ]
  },
  {
   "cell_type": "code",
   "execution_count": 6,
   "id": "7220505d",
   "metadata": {},
   "outputs": [],
   "source": [
    "articles = articles.dropna()"
   ]
  },
  {
   "cell_type": "code",
   "execution_count": 7,
   "id": "9555be09",
   "metadata": {},
   "outputs": [],
   "source": [
    "articles[\"text\"] = articles[\"prod_name\"].map(str) + \" \" + articles[\"product_type_name\"] +\" \"+ articles[\"product_group_name\"]+ \" \"+ articles['graphical_appearance_name']+\" \"+ articles['colour_group_name'] +\" \"+ articles['perceived_colour_value_name']+ \" \" + articles[\"perceived_colour_master_name\"] +\" \"+ articles[\"department_name\"]+ \" \"+ articles['index_name']+\" \"+articles['index_group_name'] +\" \"+articles['section_name']+ \" \"+ articles['garment_group_name']+\" \"+articles['detail_desc']"
   ]
  },
  {
   "cell_type": "code",
   "execution_count": 8,
   "id": "1b94ae7a",
   "metadata": {},
   "outputs": [
    {
     "name": "stdout",
     "output_type": "stream",
     "text": [
      "<class 'pandas.core.frame.DataFrame'>\n",
      "Int64Index: 105126 entries, 0 to 105541\n",
      "Data columns (total 26 columns):\n",
      " #   Column                        Non-Null Count   Dtype \n",
      "---  ------                        --------------   ----- \n",
      " 0   article_id                    105126 non-null  int64 \n",
      " 1   product_code                  105126 non-null  int64 \n",
      " 2   prod_name                     105126 non-null  object\n",
      " 3   product_type_no               105126 non-null  int64 \n",
      " 4   product_type_name             105126 non-null  object\n",
      " 5   product_group_name            105126 non-null  object\n",
      " 6   graphical_appearance_no       105126 non-null  int64 \n",
      " 7   graphical_appearance_name     105126 non-null  object\n",
      " 8   colour_group_code             105126 non-null  int64 \n",
      " 9   colour_group_name             105126 non-null  object\n",
      " 10  perceived_colour_value_id     105126 non-null  int64 \n",
      " 11  perceived_colour_value_name   105126 non-null  object\n",
      " 12  perceived_colour_master_id    105126 non-null  int64 \n",
      " 13  perceived_colour_master_name  105126 non-null  object\n",
      " 14  department_no                 105126 non-null  int64 \n",
      " 15  department_name               105126 non-null  object\n",
      " 16  index_code                    105126 non-null  object\n",
      " 17  index_name                    105126 non-null  object\n",
      " 18  index_group_no                105126 non-null  int64 \n",
      " 19  index_group_name              105126 non-null  object\n",
      " 20  section_no                    105126 non-null  int64 \n",
      " 21  section_name                  105126 non-null  object\n",
      " 22  garment_group_no              105126 non-null  int64 \n",
      " 23  garment_group_name            105126 non-null  object\n",
      " 24  detail_desc                   105126 non-null  object\n",
      " 25  text                          105126 non-null  object\n",
      "dtypes: int64(11), object(15)\n",
      "memory usage: 21.7+ MB\n"
     ]
    }
   ],
   "source": [
    "articles.info()"
   ]
  },
  {
   "cell_type": "code",
   "execution_count": 9,
   "id": "0bac7bda",
   "metadata": {},
   "outputs": [],
   "source": [
    "df_all = articles[['article_id', 'product_code', 'text']]"
   ]
  },
  {
   "cell_type": "code",
   "execution_count": 10,
   "id": "f7b7b0bf",
   "metadata": {},
   "outputs": [],
   "source": [
    "stop = stopwords.words('english')\n",
    "stop_words_ = set(stopwords.words('english'))\n",
    "wn = WordNetLemmatizer()\n",
    "\n",
    "def black_txt(token):\n",
    "    return  token not in stop_words_ and token not in list(string.punctuation)  and len(token)>2   \n",
    "  \n",
    "def clean_txt(text):\n",
    "  clean_text = []\n",
    "  clean_text2 = []\n",
    "  text = re.sub(\"'\", \"\",text)\n",
    "  text=re.sub(\"(\\\\d|\\\\W)+\",\" \",text) \n",
    "  text = text.replace(\"nbsp\", \"\")\n",
    "  clean_text = [ wn.lemmatize(word, pos=\"v\") for word in word_tokenize(text.lower()) if black_txt(word)]\n",
    "  clean_text2 = [word for word in clean_text if black_txt(word)]\n",
    "  return \" \".join(clean_text2)"
   ]
  },
  {
   "cell_type": "code",
   "execution_count": 11,
   "id": "44e00054",
   "metadata": {},
   "outputs": [],
   "source": [
    "df_all['text'] = df_all['text'].apply(clean_txt)"
   ]
  },
  {
   "cell_type": "code",
   "execution_count": 12,
   "id": "dff09982",
   "metadata": {},
   "outputs": [
    {
     "data": {
      "text/plain": [
       "0    strap top vest top garment upper body solid bl...\n",
       "1    strap top vest top garment upper body solid wh...\n",
       "2    strap top vest top garment upper body stripe w...\n",
       "3    shirt idro bra underwear solid black dark blac...\n",
       "4    shirt idro bra underwear solid white light whi...\n",
       "Name: text, dtype: object"
      ]
     },
     "execution_count": 12,
     "metadata": {},
     "output_type": "execute_result"
    }
   ],
   "source": [
    "df_all['text'].head()"
   ]
  },
  {
   "cell_type": "code",
   "execution_count": 13,
   "id": "10bb5804",
   "metadata": {},
   "outputs": [
    {
     "name": "stdout",
     "output_type": "stream",
     "text": [
      "Defaulting to user installation because normal site-packages is not writeable\n",
      "Collecting sentence-transformers\n",
      "  Downloading sentence-transformers-2.2.2.tar.gz (85 kB)\n",
      "Requirement already satisfied: transformers<5.0.0,>=4.6.0 in c:\\users\\dvshah\\appdata\\roaming\\python\\python39\\site-packages (from sentence-transformers) (4.21.2)\n",
      "Requirement already satisfied: tqdm in c:\\programdata\\anaconda3\\lib\\site-packages (from sentence-transformers) (4.64.0)\n",
      "Requirement already satisfied: torch>=1.6.0 in c:\\users\\dvshah\\appdata\\roaming\\python\\python39\\site-packages (from sentence-transformers) (1.12.1)\n",
      "Requirement already satisfied: torchvision in c:\\users\\dvshah\\appdata\\roaming\\python\\python39\\site-packages (from sentence-transformers) (0.13.1)\n",
      "Requirement already satisfied: numpy in c:\\programdata\\anaconda3\\lib\\site-packages (from sentence-transformers) (1.21.5)\n",
      "Requirement already satisfied: scikit-learn in c:\\programdata\\anaconda3\\lib\\site-packages (from sentence-transformers) (1.0.2)\n",
      "Requirement already satisfied: scipy in c:\\programdata\\anaconda3\\lib\\site-packages (from sentence-transformers) (1.7.3)\n",
      "Requirement already satisfied: nltk in c:\\programdata\\anaconda3\\lib\\site-packages (from sentence-transformers) (3.7)\n",
      "Collecting sentencepiece\n",
      "  Downloading sentencepiece-0.1.97-cp39-cp39-win_amd64.whl (1.1 MB)\n",
      "Requirement already satisfied: huggingface-hub>=0.4.0 in c:\\users\\dvshah\\appdata\\roaming\\python\\python39\\site-packages (from sentence-transformers) (0.9.1)\n",
      "Requirement already satisfied: packaging>=20.9 in c:\\programdata\\anaconda3\\lib\\site-packages (from huggingface-hub>=0.4.0->sentence-transformers) (21.3)\n",
      "Requirement already satisfied: filelock in c:\\programdata\\anaconda3\\lib\\site-packages (from huggingface-hub>=0.4.0->sentence-transformers) (3.6.0)\n",
      "Requirement already satisfied: pyyaml>=5.1 in c:\\programdata\\anaconda3\\lib\\site-packages (from huggingface-hub>=0.4.0->sentence-transformers) (6.0)\n",
      "Requirement already satisfied: requests in c:\\programdata\\anaconda3\\lib\\site-packages (from huggingface-hub>=0.4.0->sentence-transformers) (2.27.1)\n",
      "Requirement already satisfied: typing-extensions>=3.7.4.3 in c:\\programdata\\anaconda3\\lib\\site-packages (from huggingface-hub>=0.4.0->sentence-transformers) (4.1.1)\n",
      "Requirement already satisfied: pyparsing!=3.0.5,>=2.0.2 in c:\\programdata\\anaconda3\\lib\\site-packages (from packaging>=20.9->huggingface-hub>=0.4.0->sentence-transformers) (3.0.4)\n",
      "Requirement already satisfied: regex!=2019.12.17 in c:\\programdata\\anaconda3\\lib\\site-packages (from transformers<5.0.0,>=4.6.0->sentence-transformers) (2022.3.15)\n",
      "Requirement already satisfied: tokenizers!=0.11.3,<0.13,>=0.11.1 in c:\\users\\dvshah\\appdata\\roaming\\python\\python39\\site-packages (from transformers<5.0.0,>=4.6.0->sentence-transformers) (0.12.1)\n",
      "Requirement already satisfied: colorama in c:\\programdata\\anaconda3\\lib\\site-packages (from tqdm->sentence-transformers) (0.4.4)\n",
      "Requirement already satisfied: click in c:\\programdata\\anaconda3\\lib\\site-packages (from nltk->sentence-transformers) (8.0.4)\n",
      "Requirement already satisfied: joblib in c:\\programdata\\anaconda3\\lib\\site-packages (from nltk->sentence-transformers) (1.1.0)\n",
      "Requirement already satisfied: idna<4,>=2.5 in c:\\programdata\\anaconda3\\lib\\site-packages (from requests->huggingface-hub>=0.4.0->sentence-transformers) (3.3)\n",
      "Requirement already satisfied: urllib3<1.27,>=1.21.1 in c:\\programdata\\anaconda3\\lib\\site-packages (from requests->huggingface-hub>=0.4.0->sentence-transformers) (1.26.9)\n",
      "Requirement already satisfied: certifi>=2017.4.17 in c:\\programdata\\anaconda3\\lib\\site-packages (from requests->huggingface-hub>=0.4.0->sentence-transformers) (2021.10.8)\n",
      "Requirement already satisfied: charset-normalizer~=2.0.0 in c:\\programdata\\anaconda3\\lib\\site-packages (from requests->huggingface-hub>=0.4.0->sentence-transformers) (2.0.4)\n",
      "Requirement already satisfied: threadpoolctl>=2.0.0 in c:\\programdata\\anaconda3\\lib\\site-packages (from scikit-learn->sentence-transformers) (2.2.0)\n",
      "Requirement already satisfied: pillow!=8.3.*,>=5.3.0 in c:\\programdata\\anaconda3\\lib\\site-packages (from torchvision->sentence-transformers) (9.0.1)\n",
      "Building wheels for collected packages: sentence-transformers\n",
      "  Building wheel for sentence-transformers (setup.py): started\n",
      "  Building wheel for sentence-transformers (setup.py): finished with status 'done'\n",
      "  Created wheel for sentence-transformers: filename=sentence_transformers-2.2.2-py3-none-any.whl size=125940 sha256=5ee4e4d1648d4ef77f0d0d88a51d7d235bbe8b2cc78f2692fd169c5e4058540c\n",
      "  Stored in directory: c:\\users\\dvshah\\appdata\\local\\pip\\cache\\wheels\\71\\67\\06\\162a3760c40d74dd40bc855d527008d26341c2b0ecf3e8e11f\n",
      "Successfully built sentence-transformers\n",
      "Installing collected packages: sentencepiece, sentence-transformers\n",
      "Successfully installed sentence-transformers-2.2.2 sentencepiece-0.1.97\n"
     ]
    }
   ],
   "source": [
    "#!pip install sentence-transformers"
   ]
  },
  {
   "cell_type": "code",
   "execution_count": 14,
   "id": "e2912a95",
   "metadata": {},
   "outputs": [
    {
     "data": {
      "application/vnd.jupyter.widget-view+json": {
       "model_id": "f875b033c66842e28a528ba534e62770",
       "version_major": 2,
       "version_minor": 0
      },
      "text/plain": [
       "Downloading:   0%|          | 0.00/391 [00:00<?, ?B/s]"
      ]
     },
     "metadata": {},
     "output_type": "display_data"
    },
    {
     "data": {
      "application/vnd.jupyter.widget-view+json": {
       "model_id": "e9e62ee29c5f45a688ff642a83124e78",
       "version_major": 2,
       "version_minor": 0
      },
      "text/plain": [
       "Downloading:   0%|          | 0.00/190 [00:00<?, ?B/s]"
      ]
     },
     "metadata": {},
     "output_type": "display_data"
    },
    {
     "data": {
      "application/vnd.jupyter.widget-view+json": {
       "model_id": "d097c90bc1c449709961ba3b95322cac",
       "version_major": 2,
       "version_minor": 0
      },
      "text/plain": [
       "Downloading:   0%|          | 0.00/3.95k [00:00<?, ?B/s]"
      ]
     },
     "metadata": {},
     "output_type": "display_data"
    },
    {
     "data": {
      "application/vnd.jupyter.widget-view+json": {
       "model_id": "a79305cc98e04011ae2d054466394139",
       "version_major": 2,
       "version_minor": 0
      },
      "text/plain": [
       "Downloading:   0%|          | 0.00/2.00 [00:00<?, ?B/s]"
      ]
     },
     "metadata": {},
     "output_type": "display_data"
    },
    {
     "data": {
      "application/vnd.jupyter.widget-view+json": {
       "model_id": "0c0656ba85c84786a7892a1c3d76e559",
       "version_major": 2,
       "version_minor": 0
      },
      "text/plain": [
       "Downloading:   0%|          | 0.00/625 [00:00<?, ?B/s]"
      ]
     },
     "metadata": {},
     "output_type": "display_data"
    },
    {
     "data": {
      "application/vnd.jupyter.widget-view+json": {
       "model_id": "c8504edec03b4848ae31b72d82979321",
       "version_major": 2,
       "version_minor": 0
      },
      "text/plain": [
       "Downloading:   0%|          | 0.00/122 [00:00<?, ?B/s]"
      ]
     },
     "metadata": {},
     "output_type": "display_data"
    },
    {
     "data": {
      "application/vnd.jupyter.widget-view+json": {
       "model_id": "71c04bf425da418faf1f0e2959a2a2cc",
       "version_major": 2,
       "version_minor": 0
      },
      "text/plain": [
       "Downloading:   0%|          | 0.00/438M [00:00<?, ?B/s]"
      ]
     },
     "metadata": {},
     "output_type": "display_data"
    },
    {
     "data": {
      "application/vnd.jupyter.widget-view+json": {
       "model_id": "0c46aa2e57ff48928681437a1282b2f4",
       "version_major": 2,
       "version_minor": 0
      },
      "text/plain": [
       "Downloading:   0%|          | 0.00/53.0 [00:00<?, ?B/s]"
      ]
     },
     "metadata": {},
     "output_type": "display_data"
    },
    {
     "data": {
      "application/vnd.jupyter.widget-view+json": {
       "model_id": "f8dc353a518b4f509d3246d545295b8d",
       "version_major": 2,
       "version_minor": 0
      },
      "text/plain": [
       "Downloading:   0%|          | 0.00/112 [00:00<?, ?B/s]"
      ]
     },
     "metadata": {},
     "output_type": "display_data"
    },
    {
     "data": {
      "application/vnd.jupyter.widget-view+json": {
       "model_id": "5eacfcbd1d8248cb8bfd97bf4e09b9c6",
       "version_major": 2,
       "version_minor": 0
      },
      "text/plain": [
       "Downloading:   0%|          | 0.00/466k [00:00<?, ?B/s]"
      ]
     },
     "metadata": {},
     "output_type": "display_data"
    },
    {
     "data": {
      "application/vnd.jupyter.widget-view+json": {
       "model_id": "c40c7624417b4d679ce4d753a8a2eb6d",
       "version_major": 2,
       "version_minor": 0
      },
      "text/plain": [
       "Downloading:   0%|          | 0.00/399 [00:00<?, ?B/s]"
      ]
     },
     "metadata": {},
     "output_type": "display_data"
    },
    {
     "data": {
      "application/vnd.jupyter.widget-view+json": {
       "model_id": "77e28509bd4d48a0b33f08e34a4c97bc",
       "version_major": 2,
       "version_minor": 0
      },
      "text/plain": [
       "Downloading:   0%|          | 0.00/232k [00:00<?, ?B/s]"
      ]
     },
     "metadata": {},
     "output_type": "display_data"
    },
    {
     "data": {
      "application/vnd.jupyter.widget-view+json": {
       "model_id": "3a0cf0921f9a47daacd7e75e97335f58",
       "version_major": 2,
       "version_minor": 0
      },
      "text/plain": [
       "Downloading:   0%|          | 0.00/229 [00:00<?, ?B/s]"
      ]
     },
     "metadata": {},
     "output_type": "display_data"
    }
   ],
   "source": [
    "from sentence_transformers import SentenceTransformer\n",
    "sbert_model = SentenceTransformer('bert-base-nli-mean-tokens')"
   ]
  },
  {
   "cell_type": "code",
   "execution_count": 2,
   "id": "88e5290b",
   "metadata": {},
   "outputs": [
    {
     "ename": "NameError",
     "evalue": "name 'df_all' is not defined",
     "output_type": "error",
     "traceback": [
      "\u001b[1;31m---------------------------------------------------------------------------\u001b[0m",
      "\u001b[1;31mNameError\u001b[0m                                 Traceback (most recent call last)",
      "Input \u001b[1;32mIn [2]\u001b[0m, in \u001b[0;36m<cell line: 1>\u001b[1;34m()\u001b[0m\n\u001b[1;32m----> 1\u001b[0m text_list \u001b[38;5;241m=\u001b[39m \u001b[43mdf_all\u001b[49m[\u001b[38;5;124m'\u001b[39m\u001b[38;5;124mtext\u001b[39m\u001b[38;5;124m'\u001b[39m]\u001b[38;5;241m.\u001b[39mtolist()\n\u001b[0;32m      3\u001b[0m sentence_embeddings  \u001b[38;5;241m=\u001b[39m sbert_model\u001b[38;5;241m.\u001b[39mencode(text_list[\u001b[38;5;241m0\u001b[39m])\n\u001b[0;32m      4\u001b[0m sentence_embeddings\u001b[38;5;241m.\u001b[39mshape\n",
      "\u001b[1;31mNameError\u001b[0m: name 'df_all' is not defined"
     ]
    }
   ],
   "source": [
    "text_list = df_all['text'].tolist()\n",
    "\n",
    "sentence_embeddings  = sbert_model.encode(text_list[0])\n",
    "sentence_embeddings.shape"
   ]
  },
  {
   "cell_type": "code",
   "execution_count": 1,
   "id": "a17b27d7",
   "metadata": {},
   "outputs": [
    {
     "ename": "NameError",
     "evalue": "name 'text_list' is not defined",
     "output_type": "error",
     "traceback": [
      "\u001b[1;31m---------------------------------------------------------------------------\u001b[0m",
      "\u001b[1;31mNameError\u001b[0m                                 Traceback (most recent call last)",
      "Input \u001b[1;32mIn [1]\u001b[0m, in \u001b[0;36m<cell line: 1>\u001b[1;34m()\u001b[0m\n\u001b[1;32m----> 1\u001b[0m article_sentences \u001b[38;5;241m=\u001b[39m [\u001b[38;5;124m\"\u001b[39m\u001b[38;5;124m \u001b[39m\u001b[38;5;124m\"\u001b[39m\u001b[38;5;241m.\u001b[39mjoin(article) \u001b[38;5;28;01mfor\u001b[39;00m article \u001b[38;5;129;01min\u001b[39;00m \u001b[43mtext_list\u001b[49m]\n",
      "\u001b[1;31mNameError\u001b[0m: name 'text_list' is not defined"
     ]
    }
   ],
   "source": [
    "article_sentences = [\" \".join(article) for article in text_list]"
   ]
  },
  {
   "cell_type": "code",
   "execution_count": null,
   "id": "5e59a108",
   "metadata": {},
   "outputs": [],
   "source": [
    "article_sentences[:10]"
   ]
  },
  {
   "cell_type": "code",
   "execution_count": null,
   "id": "080f2629",
   "metadata": {},
   "outputs": [],
   "source": [
    "#result = sbert_model.encode(article_sentences)"
   ]
  },
  {
   "cell_type": "code",
   "execution_count": null,
   "id": "20b8ee32",
   "metadata": {},
   "outputs": [],
   "source": [
    "#result.shape"
   ]
  },
  {
   "cell_type": "code",
   "execution_count": null,
   "id": "604887d9",
   "metadata": {},
   "outputs": [],
   "source": [
    "#np.save(\"embedding\",result)"
   ]
  },
  {
   "cell_type": "code",
   "execution_count": null,
   "id": "bfa258e3",
   "metadata": {},
   "outputs": [],
   "source": []
  }
 ],
 "metadata": {
  "kernelspec": {
   "display_name": "Python 3 (ipykernel)",
   "language": "python",
   "name": "python3"
  },
  "language_info": {
   "codemirror_mode": {
    "name": "ipython",
    "version": 3
   },
   "file_extension": ".py",
   "mimetype": "text/x-python",
   "name": "python",
   "nbconvert_exporter": "python",
   "pygments_lexer": "ipython3",
   "version": "3.9.12"
  }
 },
 "nbformat": 4,
 "nbformat_minor": 5
}
